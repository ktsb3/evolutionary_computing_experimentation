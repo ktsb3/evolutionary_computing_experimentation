{
 "cells": [
  {
   "cell_type": "markdown",
   "metadata": {},
   "source": [
    "# Keshava Tonathiu Sanchez Barbosa (keshava.t.s.b@gmail.com)"
   ]
  },
  {
   "cell_type": "markdown",
   "metadata": {},
   "source": [
    "# Cruza dominante"
   ]
  },
  {
   "cell_type": "markdown",
   "metadata": {},
   "source": [
    "### El objetivo de la cruza dominante es heredar la mayor cantidad de genetica de el padre con mayor aptitud en comparación con su compañero de cruza. \n",
    "\n",
    "### La forma en que se busca realizar esto es comparando la aptitud de los padres y encontrando quien sera el padre dominante y el padre secundario.\n",
    "\n",
    "### Una vez sabiendo esto segun cuantas veces es mejor un padre del otro se determinara el porcentaje que abarcaran los genes de ambos padres, dando prioridad al padre dominante.\n",
    "\n",
    "### La forma en que se determinara el porcentaje que abarcaran los genes del padre en el hijo sera dividiendo la aptitud del padre dominante entre la aptitud del padre secundario\n",
    "\n",
    "- Si el padre dominante tiene la misma aptitud que el secundario: 50% dominante 50% secundario\n",
    "- Si el padre dominante tiene entre 1 y 2 veces mejor aptitud que el secundario: 65% padre dominante 35% padre secundario\n",
    "- Si el padre dominante tiene entre 2 y 3 veces mejor aptitud que el secundario: 75% padre dominante 25% padre secundario\n",
    "- Si el padre dominante tiene entre 3 o más veces mejor aptitud que el secundario: 85% padre dominante 15% padre secundario"
   ]
  },
  {
   "cell_type": "markdown",
   "metadata": {},
   "source": [
    "## Pseudo-codigo"
   ]
  },
  {
   "cell_type": "markdown",
   "metadata": {},
   "source": [
    "- Se reciben dos padres y las aptitudes de cada padre\n",
    "- Se comparan las aptitudes y posterior a eso se asigna al padre de mayor aptitud como el padre dominante y el segundo como el padre secundario\n",
    "- Se divide la aptitud del padre dominante entre la aptitud del padre secundario para determinar cuantas veces es mejor uno que el otro\n",
    "- Dependiendo el valor obtenido de la division se determinara el porcentaje de la cadena binaria del hijo que representara tanto el padre dominante como el secundario\n",
    "- Se convierte el porcentaje en numero entero para las longitudes ld del padre dominante y ls del padre secundario a partid de la longitud total de la cadena binaria del hijo a generar\n",
    "- De manera aleatoria se extrae una cadena de longitud ld y ls de cada padre de manera respectiva del padre dominante y el padre secundario\n",
    "- Para efectuar la cruza se obtienen dos indices aleatorios desde 0 hasta ld (id) y 0 hasta ls (is)\n",
    "- Una vez obtenido el indice la cadena binaria se generara de la siguiente manera:\n",
    "- Hijo 1:\n",
    "    - Del padre dominante se insertan los valores de la cadena desde 0 hasta id\n",
    "    - Del padre secundario se inserta toda la cadena obtenida\n",
    "    - Del padre dominante se inserta el resto de de la cadena\n",
    "- Hijo 2:\n",
    "    - Del padre secundario se insertan los valores de la cadena desde 0 hasta is\n",
    "    - Del padre dominante se inserta toda la cadena\n",
    "    - Del padre secundario se inserta el resto de la cadena\n",
    "- Se regresa hijo 1 e hijo 2"
   ]
  },
  {
   "cell_type": "markdown",
   "metadata": {},
   "source": [
    "### Codigo"
   ]
  },
  {
   "cell_type": "code",
   "execution_count": 1,
   "metadata": {},
   "outputs": [],
   "source": [
    "def dominant_cross(p1, p2, aptitude_p1, aptitude_p2):\n",
    "    \n",
    "    if aptitude_p1 > aptitude_p2:\n",
    "        dominant = copy.copy(p1)\n",
    "        secondary = copy.copy(p2)\n",
    "        aptitude_dominant = aptitude_p1\n",
    "        aptitude_secondary = aptitude_p2\n",
    "    else:\n",
    "        dominant = copy.copy(p2)\n",
    "        secondary = copy.copy(p1)\n",
    "        aptitude_dominant = aptitude_p2\n",
    "        aptitude_secondary = aptitude_p1\n",
    "        \n",
    "    diff = aptitude_dominant/aptitude_secondary\n",
    "    \n",
    "    if diff <= 1:\n",
    "        ld = int(math.ceil(len(p1)/2))\n",
    "        ls = len(p1) - ld\n",
    "        \n",
    "    elif diff > 1 and diff < 2:\n",
    "        ld = int(math.ceil(len(p1)*0.65))\n",
    "        ls = len(p1) - ld\n",
    "        \n",
    "    elif diff > 2 and diff < 3:\n",
    "        ld = int(math.ceil(len(p1)*0.75))\n",
    "        ls = len(p1) - ld\n",
    "        \n",
    "    elif diff > 3:\n",
    "        ld = int(math.ceil(len(p1)*0.85))\n",
    "        ls = len(p1) - ld\n",
    "    \n",
    "    i_d = random.choice(list(range(len(p1)-ld)))\n",
    "    i_s = random.choice(list(range(len(p1)-ls)))\n",
    "    \n",
    "    dominant_st = dominant[i_d:i_d+ld]\n",
    "    secondary_st = secondary[i_s:i_s+ls]\n",
    "    \n",
    "    i_d = random.choice(list(range(ld)))\n",
    "    i_s = random.choice(list(range(ls)))\n",
    "    \n",
    "    son1 = []\n",
    "    son1.extend(dominant_st[:i_d])\n",
    "    son1.extend(secondary_st)\n",
    "    son1.extend(dominant_st[i_d:])\n",
    "\n",
    "    son2 = []\n",
    "    son2.extend(secondary_st[:i_s])\n",
    "    son2.extend(dominant_st)\n",
    "    son2.extend(secondary_st[i_s:])\n",
    "    \n",
    "    return son1, son2"
   ]
  },
  {
   "cell_type": "markdown",
   "metadata": {},
   "source": [
    "## Midiendo la efectividad de la cruza"
   ]
  },
  {
   "cell_type": "markdown",
   "metadata": {},
   "source": [
    "### Para medir la efectividad de esta cruza se comparara los resultados obtenidos de la ejecucion de un mismo algoritmo genetico para la optimizacion de la funcion de ackley y se comparara los resultados obtenidos"
   ]
  },
  {
   "cell_type": "code",
   "execution_count": 2,
   "metadata": {},
   "outputs": [],
   "source": [
    "import numpy as np\n",
    "import math\n",
    "import operator\n",
    "from operator import itemgetter\n",
    "import random\n",
    "import copy\n",
    "import pandas as pd"
   ]
  },
  {
   "cell_type": "markdown",
   "metadata": {},
   "source": [
    "### Valor decimal de cadena binaria"
   ]
  },
  {
   "cell_type": "code",
   "execution_count": 3,
   "metadata": {},
   "outputs": [],
   "source": [
    "def valor_decimal_ackley(x):\n",
    "    num_entero = 0\n",
    "    for i in range(len(x)):\n",
    "        num_entero += x[-(i+1)]*(2**i) \n",
    "    r = -30 + (60*num_entero)/((2**len(x))-1)\n",
    "    return r"
   ]
  },
  {
   "cell_type": "markdown",
   "metadata": {},
   "source": [
    "### evaluacion de ackley"
   ]
  },
  {
   "cell_type": "code",
   "execution_count": 4,
   "metadata": {},
   "outputs": [],
   "source": [
    "def sum1(x):\n",
    "    t_sum = 0\n",
    "    for i in range(len(x)):\n",
    "        t_sum += x[i]**2\n",
    "    \n",
    "    return t_sum \n",
    "\n",
    "def sum2(x):\n",
    "    t_sum = 0\n",
    "    for i in range(len(x)):\n",
    "        t_sum += np.cos(2 * np.pi * x[i])\n",
    "    \n",
    "    return t_sum"
   ]
  },
  {
   "cell_type": "code",
   "execution_count": 5,
   "metadata": {},
   "outputs": [],
   "source": [
    "def ackley(x):\n",
    "    return -20*math.exp(-0.2*np.sqrt(sum1(x)/len(x))) - math.exp(sum2(x)/len(x)) + 20 + math.e"
   ]
  },
  {
   "cell_type": "markdown",
   "metadata": {},
   "source": [
    "### sirve para convertir las cadenas binarias en lista a cadenas binarias en string"
   ]
  },
  {
   "cell_type": "code",
   "execution_count": 6,
   "metadata": {},
   "outputs": [],
   "source": [
    "def parents_to_strings(parents):\n",
    "    p_string = []\n",
    "    for p in parents:\n",
    "        string_a = \"\"\n",
    "        p1 = p[0]\n",
    "        for i in p1:\n",
    "            string_a += str(i)\n",
    "        p_string.append(string_a)\n",
    "        \n",
    "    return p_string"
   ]
  },
  {
   "cell_type": "markdown",
   "metadata": {},
   "source": [
    "### encuentra el indice especifico de un par de padres en la poblacion"
   ]
  },
  {
   "cell_type": "code",
   "execution_count": 7,
   "metadata": {},
   "outputs": [],
   "source": [
    "def find_index_parents(parent1, parent2, parents):\n",
    "    ind1 = parents.index(parent1)\n",
    "    ind2 = parents.index(parent2)\n",
    "    indexes = [ind1, ind2]\n",
    "    indexes = sorted(indexes)\n",
    "    \n",
    "    return indexes"
   ]
  },
  {
   "cell_type": "markdown",
   "metadata": {},
   "source": [
    "### encuentra el indice especifico de un par de padres en la poblacion"
   ]
  },
  {
   "cell_type": "code",
   "execution_count": 8,
   "metadata": {},
   "outputs": [],
   "source": [
    "def find_index_parents(parent1, parent2, parents):\n",
    "    ind1 = parents.index(parent1)\n",
    "    ind2 = parents.index(parent2)\n",
    "    indexes = [ind1, ind2]\n",
    "    indexes = sorted(indexes)\n",
    "    \n",
    "    return indexes"
   ]
  },
  {
   "cell_type": "markdown",
   "metadata": {},
   "source": [
    "### aptitud promedio"
   ]
  },
  {
   "cell_type": "code",
   "execution_count": 9,
   "metadata": {},
   "outputs": [],
   "source": [
    "def avg_aptitude_value(population):\n",
    "    avg = 0\n",
    "    for p in range(len(population)):\n",
    "        avg += population[p][3]\n",
    "    \n",
    "    return avg/len(population)    "
   ]
  },
  {
   "cell_type": "markdown",
   "metadata": {},
   "source": [
    "### el valor esperado ajustado para minimizar"
   ]
  },
  {
   "cell_type": "code",
   "execution_count": 10,
   "metadata": {},
   "outputs": [],
   "source": [
    "def aptitude_value(worst, x):\n",
    "    real = worst - x\n",
    "    return worst + real"
   ]
  },
  {
   "cell_type": "markdown",
   "metadata": {},
   "source": [
    "### Metodo de seleccion universal estocastico"
   ]
  },
  {
   "cell_type": "code",
   "execution_count": 11,
   "metadata": {},
   "outputs": [],
   "source": [
    "def universal_stochastic(population, N):\n",
    "    ptr = random.random() #genero el numero aleatorio entre 0 y 1\n",
    "    s = 0 #suma\n",
    "    avg = avg_aptitude_value(population) #aptitud promedio de poblacion\n",
    "    parents = [] #donde se almacenaran los padres\n",
    "    for i in range(len(population)):\n",
    "        s += population[i][3]/avg #se agrega el numero esperado de cada padre a la suma\n",
    "        while s > ptr and len(parents) < N: \n",
    "            parents.append(population[i]) #solo agrego a la lista de padres su cadena binaria, puesto que no necesita el resto de la informacion, ya que sera recalculada para los hijos generados\n",
    "            ptr += 1\n",
    "    \n",
    "    return parents #regresa la lista de padres"
   ]
  },
  {
   "cell_type": "markdown",
   "metadata": {},
   "source": [
    "### Entrada para una ejecucion del algoritmo genetico"
   ]
  },
  {
   "cell_type": "code",
   "execution_count": 12,
   "metadata": {},
   "outputs": [],
   "source": [
    "max_gen, N = 600, 100 #list(map(int, input().split()))\n",
    "pc, pm = 0.9, 0.05 #list(map(float, input().split()))"
   ]
  },
  {
   "cell_type": "markdown",
   "metadata": {},
   "source": [
    "### calculamos la longitud de la cadena binaria"
   ]
  },
  {
   "cell_type": "code",
   "execution_count": 13,
   "metadata": {},
   "outputs": [
    {
     "data": {
      "text/plain": [
       "23"
      ]
     },
     "execution_count": 13,
     "metadata": {},
     "output_type": "execute_result"
    }
   ],
   "source": [
    "bin_string_len_ackley = math.ceil(np.log2((60*(10**5))))\n",
    "bin_string_len_ackley"
   ]
  },
  {
   "cell_type": "markdown",
   "metadata": {},
   "source": [
    "### generamos la cadena binaria de manera aleatoria"
   ]
  },
  {
   "cell_type": "code",
   "execution_count": 14,
   "metadata": {},
   "outputs": [],
   "source": [
    "bin_ackley = [np.random.randint(2, size = bin_string_len_ackley*2) for n in range(N)]"
   ]
  },
  {
   "cell_type": "markdown",
   "metadata": {},
   "source": [
    "### evaluamos los padres generados de manera aleatoria"
   ]
  },
  {
   "cell_type": "code",
   "execution_count": 15,
   "metadata": {},
   "outputs": [],
   "source": [
    "population_ackley = []\n",
    "#gen_info_ack = []\n",
    "avg_aptitude_cross = []\n",
    "avg_aptitude_dominant = []\n",
    "\n",
    "for b in bin_ackley:\n",
    "    binary_str1 = b[:bin_string_len_ackley]\n",
    "    binary_str2 = b[bin_string_len_ackley:]\n",
    "    decimal0 = valor_decimal_ackley(binary_str1)\n",
    "    decimal1 = valor_decimal_ackley(binary_str2)\n",
    "    coord = [decimal0, decimal1]\n",
    "    eval_ackley = ackley(coord)\n",
    "    population_ackley.append([b, coord, eval_ackley]) #cada elemento de la lista tendra la cadena binaria, los valores decimales correspondientes y su evaluacion en la funcion\n",
    "    \n",
    "population_ackley = sorted(population_ackley, key = lambda x: x[2])\n",
    "ackley_worst = population_ackley[-1]\n",
    "    \n",
    "for p in range(len(population_ackley)):\n",
    "    aptitude = aptitude_value(ackley_worst[2], population_ackley[p][2])\n",
    "    population_ackley[p].append(aptitude)\n",
    "    \n",
    "avg_aptitude_cross.append(avg_aptitude_value(population_ackley))\n",
    "avg_aptitude_dominant.append(avg_aptitude_value(population_ackley))"
   ]
  },
  {
   "cell_type": "markdown",
   "metadata": {},
   "source": [
    "### algoritmo genetico"
   ]
  },
  {
   "cell_type": "code",
   "execution_count": 16,
   "metadata": {},
   "outputs": [],
   "source": [
    "t = 0\n",
    "while t < max_gen:\n",
    "    population_ackley = sorted(population_ackley, key = lambda x: x[2]) #ordenamos la poblacion de acuerdo al valor que tienen en la evaluacion\n",
    "    best_ind = population_ackley[0]\n",
    "    parents = universal_stochastic(population_ackley, N)\n",
    "    sons = []\n",
    "    string_parents = parents_to_strings(parents) #generamos una lista de strings a partir de las cadenas binarias de los padres\n",
    "    n_p = int(len(parents)/2)\n",
    "    for p in range(n_p):\n",
    "        if random.random() < pc:\n",
    "            parent_string_1 = random.choice(string_parents) #obtenemos los padres de manera aleatoria\n",
    "            parent_string_2 = random.choice(string_parents)\n",
    "            indexes = find_index_parents(parent_string_1, parent_string_2, string_parents) #obtenemos los indices de los padres\n",
    "            parent1 = parents[indexes[0]] #guardamos las cadenas binarias de los padres en variables\n",
    "            parent2 = parents[indexes[1]]\n",
    "            string_parents.pop(indexes[0]) #eliminamos de la lista de padres a los seleccionados\n",
    "            string_parents.pop(indexes[1]-1)\n",
    "            parents.pop(indexes[0])\n",
    "            parents.pop(indexes[1]-1)\n",
    "            \n",
    "            son1, son2 = dominant_cross(parent1[0], parent2[0], parent1[3], parent2[3])\n",
    "            \n",
    "            for i in range(len(son1)): #se va espacio por espacio de la cadena binaria verificando si se modificara el valor\n",
    "                if random.random() < pm: #de cada elemento que forma al individuo haciendo un volado\n",
    "                    #n_mutation += 1\n",
    "                    if son1[i] == 0 :\n",
    "                        son1[i] = 1\n",
    "                    else:\n",
    "                        son1[i] = 0\n",
    "\n",
    "                if random.random() < pm:\n",
    "                    #n_mutation += 1\n",
    "                    if son2[i] == 0 :\n",
    "                        son2[i] = 1\n",
    "                    else:\n",
    "                        son2[i] = 0\n",
    "\n",
    "            sons.append(son1)\n",
    "            sons.append(son2)\n",
    "        \n",
    "        else:\n",
    "            parent_string_1 = random.choice(string_parents) #si el valor es mayor que la probabilidad de cruza\n",
    "            parent_string_2 = random.choice(string_parents) #se eligen 2 padres de manera aleatoria\n",
    "            indexes = find_index_parents(parent_string_1, parent_string_2, string_parents)\n",
    "            parent1 = parents[indexes[0]]\n",
    "            parent2 = parents[indexes[1]]\n",
    "            string_parents.pop(indexes[0]) #se eliminan de la lista de padres\n",
    "            string_parents.pop(indexes[1]-1)\n",
    "            parents.pop(indexes[0])\n",
    "            parents.pop(indexes[1]-1)\n",
    "            sons.append(parent1[0]) #se agregan directamente a los hijos\n",
    "            sons.append(parent2[0])\n",
    "            \n",
    "    sons_ack = []\n",
    "    \n",
    "    for s in sons: #se evalua cada hijo en la funcion\n",
    "        binary_str1 = s[:bin_string_len_ackley]\n",
    "        binary_str2 = s[bin_string_len_ackley:]\n",
    "        decimal0 = valor_decimal_ackley(binary_str1)\n",
    "        decimal1 = valor_decimal_ackley(binary_str2)\n",
    "        coord = [decimal0, decimal1]\n",
    "        eval_ackley = ackley(coord)\n",
    "        aux = [s, coord, eval_ackley]\n",
    "        sons_ack.append(aux) #cada hijo tendra su cadena binaria, sus valores decimales como coordenada, su evaluacion\n",
    "        \n",
    "    worst = sons_ack[-1]\n",
    "    for s in range(len(sons_ack)):\n",
    "        aptitude = aptitude_value(worst[2], sons_ack[s][2])\n",
    "        sons_ack[s].append(aptitude)\n",
    "        \n",
    "    worst_ind = sons_ack[-1] #se obtiene el peor individuo de los hijos\n",
    "    if worst_ind[2] > best_ind[2]: #si el mejor padre es mejor (segun f(x)) que el peor hijo, se reemplaza el peor hijo con el mejor padre\n",
    "        sons_ack[-1] = best_ind\n",
    "        \n",
    "    population_ackley = copy.copy(sons_ack) #los hijos se convierten en los padres\n",
    "    \n",
    "    avg_aptitude_dominant.append(avg_aptitude_value(population_ackley))\n",
    "    \n",
    "    t += 1\n",
    "    \n",
    "population_ackley = sorted(population_ackley, key = lambda x: x[2]) #se realiza un ultimo ordenamiento segun su valor en la funcion"
   ]
  },
  {
   "cell_type": "markdown",
   "metadata": {},
   "source": [
    "# Resultados de ejecucion con cruza dominante"
   ]
  },
  {
   "cell_type": "code",
   "execution_count": 17,
   "metadata": {},
   "outputs": [
    {
     "name": "stdout",
     "output_type": "stream",
     "text": [
      "cadena binaria [0, 1, 1, 1, 1, 1, 1, 1, 0, 0, 1, 1, 1, 1, 1, 1, 0, 0, 1, 1, 1, 1, 1, 1, 0, 0, 0, 0, 0, 0, 0, 0, 1, 0, 0, 1, 0, 0, 1, 1, 0, 1, 0, 0, 0, 1]\n",
      "valores decimales de cadena binaria:  [-0.17647149282354135, 0.06741643755631799]\n",
      "optimo encontrado:  1.274260497996551\n"
     ]
    }
   ],
   "source": [
    "print(\"cadena binaria\", population_ackley[0][0])\n",
    "print(\"valores decimales de cadena binaria: \", population_ackley[0][1])\n",
    "print(\"optimo encontrado: \", population_ackley[0][2])"
   ]
  },
  {
   "cell_type": "markdown",
   "metadata": {},
   "source": [
    "# Resultados de la ejecucion con cruza de dos puntos"
   ]
  },
  {
   "cell_type": "code",
   "execution_count": 15,
   "metadata": {},
   "outputs": [
    {
     "name": "stdout",
     "output_type": "stream",
     "text": [
      "cadena binaria [1, 0, 0, 0, 0, 0, 0, 0, 0, 0, 0, 0, 0, 0, 0, 0, 0, 0, 0, 0, 0, 0, 0, 0, 1, 1, 1, 1, 1, 1, 1, 1, 1, 1, 1, 1, 1, 1, 1, 1, 1, 1, 1, 1, 1, 1]\n",
      "valores decimales de cadena binaria:  [3.576279112849079e-06, -3.576279112849079e-06]\n",
      "optimo encontrado:  1.430579759231776e-05\n"
     ]
    }
   ],
   "source": [
    "print(\"cadena binaria\", population_ackley[0][0])\n",
    "print(\"valores decimales de cadena binaria: \", population_ackley[0][1])\n",
    "print(\"optimo encontrado: \", population_ackley[0][2])"
   ]
  },
  {
   "cell_type": "markdown",
   "metadata": {},
   "source": [
    "# Grafica de aptitud promedio por generación"
   ]
  },
  {
   "cell_type": "code",
   "execution_count": 19,
   "metadata": {},
   "outputs": [
    {
     "data": {
      "text/plain": [
       "[<matplotlib.lines.Line2D at 0x25136d90288>]"
      ]
     },
     "execution_count": 19,
     "metadata": {},
     "output_type": "execute_result"
    },
    {
     "data": {
      "image/png": "[encoded data removed]",
      "text/plain": [
       "<Figure size 432x288 with 1 Axes>"
      ]
     },
     "metadata": {
      "needs_background": "light"
     },
     "output_type": "display_data"
    }
   ],
   "source": [
    "import matplotlib\n",
    "import matplotlib.pyplot as plt\n",
    "\n",
    "plt.plot(avg_aptitude_dominant)"
   ]
  },
  {
   "cell_type": "markdown",
   "metadata": {},
   "source": [
    "# Conclusiones"
   ]
  },
  {
   "cell_type": "markdown",
   "metadata": {},
   "source": [
    "### La cruza dominante es un concepto en etapas muy tempranas, a pesar de que el algoritmo genetico logro acercarse al optimo, no logro hacerlo con tal precision como cuando se uso cruza de dos puntos.\n",
    "\n",
    "### Quiza con un tiempo mas largo de desarrollo y ajustes en el algoritmo sea posible mejorar el desempeño de esta cruza."
   ]
  }
 ],
 "metadata": {
  "kernelspec": {
   "display_name": "Python 3",
   "language": "python",
   "name": "python3"
  },
  "language_info": {
   "codemirror_mode": {
    "name": "ipython",
    "version": 3
   },
   "file_extension": ".py",
   "mimetype": "text/x-python",
   "name": "python",
   "nbconvert_exporter": "python",
   "pygments_lexer": "ipython3",
   "version": "3.7.6"
  }
 },
 "nbformat": 4,
 "nbformat_minor": 4
}
